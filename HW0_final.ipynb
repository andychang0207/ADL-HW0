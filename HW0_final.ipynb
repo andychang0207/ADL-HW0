{
 "cells": [
  {
   "cell_type": "code",
   "execution_count": 5,
   "metadata": {},
   "outputs": [
    {
     "name": "stdout",
     "output_type": "stream",
     "text": [
      "Collecting pandas\n",
      "  Downloading pandas-1.1.5-cp36-cp36m-manylinux1_x86_64.whl (9.5 MB)\n",
      "\u001b[K     |████████████████████████████████| 9.5 MB 2.6 MB/s eta 0:00:01\n",
      "\u001b[?25hRequirement already satisfied: python-dateutil>=2.7.3 in /usr/local/lib/python3.6/dist-packages (from pandas) (2.8.1)\n",
      "Requirement already satisfied: numpy>=1.15.4 in /usr/local/lib/python3.6/dist-packages (from pandas) (1.17.3)\n",
      "Collecting pytz>=2017.2\n",
      "  Downloading pytz-2021.1-py2.py3-none-any.whl (510 kB)\n",
      "\u001b[K     |████████████████████████████████| 510 kB 42.2 MB/s eta 0:00:01\n",
      "\u001b[?25hRequirement already satisfied: six>=1.5 in /usr/local/lib/python3.6/dist-packages (from python-dateutil>=2.7.3->pandas) (1.15.0)\n",
      "Installing collected packages: pytz, pandas\n",
      "Successfully installed pandas-1.1.5 pytz-2021.1\n",
      "\u001b[33mWARNING: You are using pip version 20.2.4; however, version 21.0.1 is available.\n",
      "You should consider upgrading via the '/usr/bin/python -m pip install --upgrade pip' command.\u001b[0m\n"
     ]
    }
   ],
   "source": [
    "!pip3 install pandas"
   ]
  },
  {
   "cell_type": "code",
   "execution_count": 1,
   "metadata": {},
   "outputs": [],
   "source": [
    "import tensorflow as tf"
   ]
  },
  {
   "cell_type": "code",
   "execution_count": 2,
   "metadata": {},
   "outputs": [
    {
     "name": "stdout",
     "output_type": "stream",
     "text": [
      "WARNING:tensorflow:From <ipython-input-2-17bb7203622b>:1: is_gpu_available (from tensorflow.python.framework.test_util) is deprecated and will be removed in a future version.\n",
      "Instructions for updating:\n",
      "Use `tf.config.list_physical_devices('GPU')` instead.\n"
     ]
    },
    {
     "data": {
      "text/plain": [
       "True"
      ]
     },
     "execution_count": 2,
     "metadata": {},
     "output_type": "execute_result"
    }
   ],
   "source": [
    "tf.test.is_gpu_available()"
   ]
  },
  {
   "cell_type": "code",
   "execution_count": 2,
   "metadata": {},
   "outputs": [],
   "source": [
    "import numpy as np\n",
    "import pandas as pd"
   ]
  },
  {
   "cell_type": "code",
   "execution_count": 3,
   "metadata": {},
   "outputs": [],
   "source": [
    "#load data\n",
    "df = pd.read_csv('./ntu-adl-hw0-spring-2021/train.csv')"
   ]
  },
  {
   "cell_type": "code",
   "execution_count": 4,
   "metadata": {},
   "outputs": [
    {
     "data": {
      "text/html": [
       "<div>\n",
       "<style scoped>\n",
       "    .dataframe tbody tr th:only-of-type {\n",
       "        vertical-align: middle;\n",
       "    }\n",
       "\n",
       "    .dataframe tbody tr th {\n",
       "        vertical-align: top;\n",
       "    }\n",
       "\n",
       "    .dataframe thead th {\n",
       "        text-align: right;\n",
       "    }\n",
       "</style>\n",
       "<table border=\"1\" class=\"dataframe\">\n",
       "  <thead>\n",
       "    <tr style=\"text-align: right;\">\n",
       "      <th></th>\n",
       "      <th>Id</th>\n",
       "      <th>text</th>\n",
       "      <th>Category</th>\n",
       "    </tr>\n",
       "  </thead>\n",
       "  <tbody>\n",
       "    <tr>\n",
       "      <th>0</th>\n",
       "      <td>f6d77ca7b407bec6f00d3b94c5b11907a8781b85661e0b...</td>\n",
       "      <td>什麼 才 是 想要 的</td>\n",
       "      <td>0</td>\n",
       "    </tr>\n",
       "    <tr>\n",
       "      <th>1</th>\n",
       "      <td>a519e92b4570f3ef68482bb034ab6f26903aa913548aa4...</td>\n",
       "      <td>應該 是 學姊 吧 ！</td>\n",
       "      <td>1</td>\n",
       "    </tr>\n",
       "    <tr>\n",
       "      <th>2</th>\n",
       "      <td>b2058b0cbbac5d6c80b28219d4b685f893bb2220a614fd...</td>\n",
       "      <td>我 想要 瘦 啊   希望 能 趁 這 次 暑假 來 個 減肥 大計   祈禱 我 能 持之...</td>\n",
       "      <td>1</td>\n",
       "    </tr>\n",
       "    <tr>\n",
       "      <th>3</th>\n",
       "      <td>3917286757d7a0ca1b3a4d89a887a40faa8b9523749d2c...</td>\n",
       "      <td>順利 到 12月 底 完成 ！ ！ ！ ！ ！</td>\n",
       "      <td>1</td>\n",
       "    </tr>\n",
       "    <tr>\n",
       "      <th>4</th>\n",
       "      <td>f047ccbe9c84987ea2e99b63727e1a2597bf80815b4c20...</td>\n",
       "      <td>在 感情 裡 付出 過 的 一切   就是 屬於 兩 人 永遠 的 記憶   別人 都 無法...</td>\n",
       "      <td>0</td>\n",
       "    </tr>\n",
       "    <tr>\n",
       "      <th>...</th>\n",
       "      <td>...</td>\n",
       "      <td>...</td>\n",
       "      <td>...</td>\n",
       "    </tr>\n",
       "    <tr>\n",
       "      <th>79995</th>\n",
       "      <td>a49ea165f0529cf60747753e8a5fff85701de7a4182d47...</td>\n",
       "      <td>趕快 買 機車</td>\n",
       "      <td>1</td>\n",
       "    </tr>\n",
       "    <tr>\n",
       "      <th>79996</th>\n",
       "      <td>f004bbd26a9a95c5e3f6d7721aa5210e102b95cffede8a...</td>\n",
       "      <td>周末 不要 下雨</td>\n",
       "      <td>1</td>\n",
       "    </tr>\n",
       "    <tr>\n",
       "      <th>79997</th>\n",
       "      <td>d3e78a80ee8a5c1721c67f56758d7d3ab0526688d7fb6f...</td>\n",
       "      <td>讓 我 瘦身 成功 吧 !</td>\n",
       "      <td>1</td>\n",
       "    </tr>\n",
       "    <tr>\n",
       "      <th>79998</th>\n",
       "      <td>e5a7e168d80650b4d5905545a1f5e8e7974a0ed477ba30...</td>\n",
       "      <td>你 第幾 次 讓 我 這樣 心痛 了   口口 聲聲 說 我 是 你 很 重要 的 人   ...</td>\n",
       "      <td>0</td>\n",
       "    </tr>\n",
       "    <tr>\n",
       "      <th>79999</th>\n",
       "      <td>4b76936177df2fc26d74ddf6defb2b75d08db9c77f3c54...</td>\n",
       "      <td>demo</td>\n",
       "      <td>1</td>\n",
       "    </tr>\n",
       "  </tbody>\n",
       "</table>\n",
       "<p>80000 rows × 3 columns</p>\n",
       "</div>"
      ],
      "text/plain": [
       "                                                      Id  \\\n",
       "0      f6d77ca7b407bec6f00d3b94c5b11907a8781b85661e0b...   \n",
       "1      a519e92b4570f3ef68482bb034ab6f26903aa913548aa4...   \n",
       "2      b2058b0cbbac5d6c80b28219d4b685f893bb2220a614fd...   \n",
       "3      3917286757d7a0ca1b3a4d89a887a40faa8b9523749d2c...   \n",
       "4      f047ccbe9c84987ea2e99b63727e1a2597bf80815b4c20...   \n",
       "...                                                  ...   \n",
       "79995  a49ea165f0529cf60747753e8a5fff85701de7a4182d47...   \n",
       "79996  f004bbd26a9a95c5e3f6d7721aa5210e102b95cffede8a...   \n",
       "79997  d3e78a80ee8a5c1721c67f56758d7d3ab0526688d7fb6f...   \n",
       "79998  e5a7e168d80650b4d5905545a1f5e8e7974a0ed477ba30...   \n",
       "79999  4b76936177df2fc26d74ddf6defb2b75d08db9c77f3c54...   \n",
       "\n",
       "                                                    text  Category  \n",
       "0                                            什麼 才 是 想要 的         0  \n",
       "1                                            應該 是 學姊 吧 ！         1  \n",
       "2      我 想要 瘦 啊   希望 能 趁 這 次 暑假 來 個 減肥 大計   祈禱 我 能 持之...         1  \n",
       "3                                順利 到 12月 底 完成 ！ ！ ！ ！ ！         1  \n",
       "4      在 感情 裡 付出 過 的 一切   就是 屬於 兩 人 永遠 的 記憶   別人 都 無法...         0  \n",
       "...                                                  ...       ...  \n",
       "79995                                            趕快 買 機車         1  \n",
       "79996                                           周末 不要 下雨         1  \n",
       "79997                                      讓 我 瘦身 成功 吧 !         1  \n",
       "79998  你 第幾 次 讓 我 這樣 心痛 了   口口 聲聲 說 我 是 你 很 重要 的 人   ...         0  \n",
       "79999                                               demo         1  \n",
       "\n",
       "[80000 rows x 3 columns]"
      ]
     },
     "execution_count": 4,
     "metadata": {},
     "output_type": "execute_result"
    }
   ],
   "source": [
    "df"
   ]
  },
  {
   "cell_type": "code",
   "execution_count": 5,
   "metadata": {},
   "outputs": [],
   "source": [
    "# seperate each word in a sentence\n",
    "# and record unique word occur in dataset\n",
    "train = []\n",
    "dic = {}\n",
    "count = 0\n",
    "for text in df['text']:\n",
    "    tmp_text = text.split(' ')\n",
    "    new_text = []\n",
    "    for word in tmp_text:\n",
    "        if(word != \"\"):\n",
    "            new_text.append(word)\n",
    "            if(word not in dic):\n",
    "                dic[word] = count\n",
    "                count = count + 1\n",
    "    train.append(new_text)"
   ]
  },
  {
   "cell_type": "code",
   "execution_count": 6,
   "metadata": {},
   "outputs": [],
   "source": [
    "# transform each data point into bag-of-word\n",
    "# no normalization\n",
    "X = []\n",
    "for data in train:\n",
    "    x_input = [0 for _ in range(75417)]\n",
    "    for word in data:\n",
    "        x_input[dic[word]] = x_input[dic[word]] + 1\n",
    "    X.append(x_input)"
   ]
  },
  {
   "cell_type": "code",
   "execution_count": 7,
   "metadata": {},
   "outputs": [],
   "source": [
    "# transform input data into numpy type\n",
    "X = np.array(X)"
   ]
  },
  {
   "cell_type": "code",
   "execution_count": 8,
   "metadata": {},
   "outputs": [
    {
     "data": {
      "text/plain": [
       "(80000, 75417)"
      ]
     },
     "execution_count": 8,
     "metadata": {},
     "output_type": "execute_result"
    }
   ],
   "source": [
    "# input data size\n",
    "X.shape"
   ]
  },
  {
   "cell_type": "code",
   "execution_count": 9,
   "metadata": {},
   "outputs": [],
   "source": [
    "# label\n",
    "Y = df['Category']"
   ]
  },
  {
   "cell_type": "code",
   "execution_count": 10,
   "metadata": {},
   "outputs": [],
   "source": [
    "# transform label into numpy type\n",
    "# and change size to (80000,)\n",
    "Y = np.array(Y)\n",
    "Y = np.reshape(Y,(80000,))"
   ]
  },
  {
   "cell_type": "code",
   "execution_count": 11,
   "metadata": {},
   "outputs": [],
   "source": [
    "# create model\n",
    "from tensorflow.keras.models import Sequential\n",
    "from tensorflow.keras.layers import Dense,Dropout\n",
    "model = Sequential()\n",
    "model.add(Dense(units=1024, input_dim=75417, kernel_initializer='normal', activation='relu'))\n",
    "model.add(Dropout(0.2))\n",
    "model.add(Dense(units=256, kernel_initializer='normal', activation='relu'))\n",
    "model.add(Dense(units=1, kernel_initializer='normal', activation='sigmoid'))\n",
    "model.compile(loss='binary_crossentropy', optimizer='adam', metrics=['accuracy'])"
   ]
  },
  {
   "cell_type": "code",
   "execution_count": 12,
   "metadata": {},
   "outputs": [
    {
     "name": "stdout",
     "output_type": "stream",
     "text": [
      "Model: \"sequential\"\n",
      "_________________________________________________________________\n",
      "Layer (type)                 Output Shape              Param #   \n",
      "=================================================================\n",
      "dense (Dense)                (None, 1024)              77228032  \n",
      "_________________________________________________________________\n",
      "dropout (Dropout)            (None, 1024)              0         \n",
      "_________________________________________________________________\n",
      "dense_1 (Dense)              (None, 256)               262400    \n",
      "_________________________________________________________________\n",
      "dense_2 (Dense)              (None, 1)                 257       \n",
      "=================================================================\n",
      "Total params: 77,490,689\n",
      "Trainable params: 77,490,689\n",
      "Non-trainable params: 0\n",
      "_________________________________________________________________\n"
     ]
    }
   ],
   "source": [
    "# model structure\n",
    "model.summary()"
   ]
  },
  {
   "cell_type": "code",
   "execution_count": 13,
   "metadata": {},
   "outputs": [
    {
     "name": "stdout",
     "output_type": "stream",
     "text": [
      "Epoch 1/3\n",
      "12800/12800 [==============================] - 82s 6ms/step - loss: 0.2821 - accuracy: 0.8886 - val_loss: 0.2391 - val_accuracy: 0.9075\n",
      "Epoch 2/3\n",
      "12800/12800 [==============================] - 71s 6ms/step - loss: 0.1785 - accuracy: 0.9361 - val_loss: 0.2581 - val_accuracy: 0.9056\n",
      "Epoch 3/3\n",
      "12800/12800 [==============================] - 71s 6ms/step - loss: 0.1222 - accuracy: 0.9567 - val_loss: 0.3142 - val_accuracy: 0.9069\n"
     ]
    },
    {
     "data": {
      "text/plain": [
       "<tensorflow.python.keras.callbacks.History at 0x7f9820a9f780>"
      ]
     },
     "execution_count": 13,
     "metadata": {},
     "output_type": "execute_result"
    }
   ],
   "source": [
    "# set up hyperparameters and model training\n",
    "model.fit(X,Y,validation_split=0.2, epochs=3, batch_size=5)"
   ]
  },
  {
   "cell_type": "code",
   "execution_count": 14,
   "metadata": {},
   "outputs": [],
   "source": [
    "# load test data\n",
    "df_test = pd.read_csv('./ntu-adl-hw0-spring-2021/test.csv')"
   ]
  },
  {
   "cell_type": "code",
   "execution_count": 15,
   "metadata": {},
   "outputs": [
    {
     "data": {
      "text/html": [
       "<div>\n",
       "<style scoped>\n",
       "    .dataframe tbody tr th:only-of-type {\n",
       "        vertical-align: middle;\n",
       "    }\n",
       "\n",
       "    .dataframe tbody tr th {\n",
       "        vertical-align: top;\n",
       "    }\n",
       "\n",
       "    .dataframe thead th {\n",
       "        text-align: right;\n",
       "    }\n",
       "</style>\n",
       "<table border=\"1\" class=\"dataframe\">\n",
       "  <thead>\n",
       "    <tr style=\"text-align: right;\">\n",
       "      <th></th>\n",
       "      <th>Id</th>\n",
       "      <th>text</th>\n",
       "      <th>Category</th>\n",
       "    </tr>\n",
       "  </thead>\n",
       "  <tbody>\n",
       "    <tr>\n",
       "      <th>0</th>\n",
       "      <td>60ffed24da8262dd38c916dd517c617641710ede348320...</td>\n",
       "      <td>撿到 學妹 的 手機   :   吃完 飯 看到 學妹 疑 落 手機 在 三 顧 茅蘆 的 ...</td>\n",
       "      <td>0</td>\n",
       "    </tr>\n",
       "    <tr>\n",
       "      <th>1</th>\n",
       "      <td>cb931d414e634344c782a128d542188d6ec1d325e82dd1...</td>\n",
       "      <td>這些 年 努力 的 付出 ~ 但是 最終 有 誰 會 記得   大家 看到 的 只 是 表面...</td>\n",
       "      <td>0</td>\n",
       "    </tr>\n",
       "    <tr>\n",
       "      <th>2</th>\n",
       "      <td>f7febf0abfefcb927ee16440eaca62d795392de2d685a6...</td>\n",
       "      <td>幫 我 把 摩托車 鑰匙 放到 放 飲料 的 地方</td>\n",
       "      <td>0</td>\n",
       "    </tr>\n",
       "    <tr>\n",
       "      <th>3</th>\n",
       "      <td>709399d1be2207b8f06dfc9ddb3a0709d9894c02849b88...</td>\n",
       "      <td>在一起 是 需要 2 人 同意   但 分手 卻 是 要 一 人 同意 就 好 了   是 ...</td>\n",
       "      <td>0</td>\n",
       "    </tr>\n",
       "    <tr>\n",
       "      <th>4</th>\n",
       "      <td>0d1969c03277dfaef7ccfd40f0710bcff4ecd978faa935...</td>\n",
       "      <td>只好 說 抱歉</td>\n",
       "      <td>0</td>\n",
       "    </tr>\n",
       "    <tr>\n",
       "      <th>...</th>\n",
       "      <td>...</td>\n",
       "      <td>...</td>\n",
       "      <td>...</td>\n",
       "    </tr>\n",
       "    <tr>\n",
       "      <th>9995</th>\n",
       "      <td>518e80d24778d9ebd2a941ca4d2b71c7ebb722ca74c3b7...</td>\n",
       "      <td>身邊 的 朋友 們</td>\n",
       "      <td>0</td>\n",
       "    </tr>\n",
       "    <tr>\n",
       "      <th>9996</th>\n",
       "      <td>af7dc1a655e84b72726a382062779be203ed0450496568...</td>\n",
       "      <td>真的 不 知道 該 怎麼辦   該 跟 誰 說   才 開開心心 地 回到 宿舍   就 接...</td>\n",
       "      <td>0</td>\n",
       "    </tr>\n",
       "    <tr>\n",
       "      <th>9997</th>\n",
       "      <td>38bc4d6c1f43b5e3ccc65689a90a3daa6938954615dd58...</td>\n",
       "      <td>當初 真的 不 該 說出 那些 話 ...   現在 多麼 尷尬 阿 ....   每 天 ...</td>\n",
       "      <td>0</td>\n",
       "    </tr>\n",
       "    <tr>\n",
       "      <th>9998</th>\n",
       "      <td>ec1d744837fc5544b07b184235b3d1fd4b53e365500ab3...</td>\n",
       "      <td>糟糕 的 基督徒</td>\n",
       "      <td>0</td>\n",
       "    </tr>\n",
       "    <tr>\n",
       "      <th>9999</th>\n",
       "      <td>f58e6da14e7e455a33e27eb80e806246783346496310f4...</td>\n",
       "      <td>在 那 之後 我 的 世界 就 崩解 了   胸口 持續 抽痛 胃液 逆流   近 幾 年 ...</td>\n",
       "      <td>0</td>\n",
       "    </tr>\n",
       "  </tbody>\n",
       "</table>\n",
       "<p>10000 rows × 3 columns</p>\n",
       "</div>"
      ],
      "text/plain": [
       "                                                     Id  \\\n",
       "0     60ffed24da8262dd38c916dd517c617641710ede348320...   \n",
       "1     cb931d414e634344c782a128d542188d6ec1d325e82dd1...   \n",
       "2     f7febf0abfefcb927ee16440eaca62d795392de2d685a6...   \n",
       "3     709399d1be2207b8f06dfc9ddb3a0709d9894c02849b88...   \n",
       "4     0d1969c03277dfaef7ccfd40f0710bcff4ecd978faa935...   \n",
       "...                                                 ...   \n",
       "9995  518e80d24778d9ebd2a941ca4d2b71c7ebb722ca74c3b7...   \n",
       "9996  af7dc1a655e84b72726a382062779be203ed0450496568...   \n",
       "9997  38bc4d6c1f43b5e3ccc65689a90a3daa6938954615dd58...   \n",
       "9998  ec1d744837fc5544b07b184235b3d1fd4b53e365500ab3...   \n",
       "9999  f58e6da14e7e455a33e27eb80e806246783346496310f4...   \n",
       "\n",
       "                                                   text  Category  \n",
       "0     撿到 學妹 的 手機   :   吃完 飯 看到 學妹 疑 落 手機 在 三 顧 茅蘆 的 ...         0  \n",
       "1     這些 年 努力 的 付出 ~ 但是 最終 有 誰 會 記得   大家 看到 的 只 是 表面...         0  \n",
       "2                             幫 我 把 摩托車 鑰匙 放到 放 飲料 的 地方         0  \n",
       "3     在一起 是 需要 2 人 同意   但 分手 卻 是 要 一 人 同意 就 好 了   是 ...         0  \n",
       "4                                               只好 說 抱歉         0  \n",
       "...                                                 ...       ...  \n",
       "9995                                          身邊 的 朋友 們         0  \n",
       "9996  真的 不 知道 該 怎麼辦   該 跟 誰 說   才 開開心心 地 回到 宿舍   就 接...         0  \n",
       "9997  當初 真的 不 該 說出 那些 話 ...   現在 多麼 尷尬 阿 ....   每 天 ...         0  \n",
       "9998                                           糟糕 的 基督徒         0  \n",
       "9999  在 那 之後 我 的 世界 就 崩解 了   胸口 持續 抽痛 胃液 逆流   近 幾 年 ...         0  \n",
       "\n",
       "[10000 rows x 3 columns]"
      ]
     },
     "execution_count": 15,
     "metadata": {},
     "output_type": "execute_result"
    }
   ],
   "source": [
    "df_test"
   ]
  },
  {
   "cell_type": "code",
   "execution_count": 16,
   "metadata": {},
   "outputs": [],
   "source": [
    "# seperate each word in a sentence\n",
    "test = []\n",
    "for text in df_test['text']:\n",
    "    tmp_text = text.split(' ')\n",
    "    new_text = []\n",
    "    for word in tmp_text:\n",
    "        if(word != \"\"):\n",
    "            new_text.append(word)\n",
    "    test.append(new_text)"
   ]
  },
  {
   "cell_type": "code",
   "execution_count": 17,
   "metadata": {},
   "outputs": [],
   "source": [
    "# transform test data points into bag-of-word\n",
    "# p.s. if a word that didn't exist in train dataset, then ignore it.\n",
    "X_test = []\n",
    "for data in test:\n",
    "    x_input = [0 for _ in range(75417)]\n",
    "    for word in data:\n",
    "        if(word in dic.keys()):\n",
    "            x_input[dic[word]] = x_input[dic[word]] + 1\n",
    "    X_test.append(x_input)"
   ]
  },
  {
   "cell_type": "code",
   "execution_count": 18,
   "metadata": {},
   "outputs": [],
   "source": [
    "# transform test data into numpy type\n",
    "X_test = np.array(X_test)"
   ]
  },
  {
   "cell_type": "code",
   "execution_count": 19,
   "metadata": {},
   "outputs": [],
   "source": [
    "# predict\n",
    "pred = model.predict(X_test)"
   ]
  },
  {
   "cell_type": "code",
   "execution_count": 20,
   "metadata": {},
   "outputs": [
    {
     "data": {
      "text/plain": [
       "array([[1.0000000e+00],\n",
       "       [1.5408274e-03],\n",
       "       [9.9999666e-01],\n",
       "       ...,\n",
       "       [5.7347955e-07],\n",
       "       [1.0900800e-02],\n",
       "       [9.8252099e-07]], dtype=float32)"
      ]
     },
     "execution_count": 20,
     "metadata": {},
     "output_type": "execute_result"
    }
   ],
   "source": [
    "pred"
   ]
  },
  {
   "cell_type": "code",
   "execution_count": 25,
   "metadata": {},
   "outputs": [
    {
     "data": {
      "text/plain": [
       "0.0"
      ]
     },
     "execution_count": 25,
     "metadata": {},
     "output_type": "execute_result"
    }
   ],
   "source": [
    "np.min(pred)"
   ]
  },
  {
   "cell_type": "code",
   "execution_count": 27,
   "metadata": {},
   "outputs": [
    {
     "data": {
      "text/plain": [
       "1.0"
      ]
     },
     "execution_count": 27,
     "metadata": {},
     "output_type": "execute_result"
    }
   ],
   "source": [
    "np.max(pred)"
   ]
  },
  {
   "cell_type": "code",
   "execution_count": 28,
   "metadata": {},
   "outputs": [],
   "source": [
    "# set up threshold and assign test data label\n",
    "pred_modify = []\n",
    "for i in pred:\n",
    "    if(i<0.5):\n",
    "        pred_modify.append(0)\n",
    "    else:\n",
    "        pred_modify.append(1)"
   ]
  },
  {
   "cell_type": "code",
   "execution_count": 29,
   "metadata": {},
   "outputs": [
    {
     "data": {
      "text/html": [
       "<div>\n",
       "<style scoped>\n",
       "    .dataframe tbody tr th:only-of-type {\n",
       "        vertical-align: middle;\n",
       "    }\n",
       "\n",
       "    .dataframe tbody tr th {\n",
       "        vertical-align: top;\n",
       "    }\n",
       "\n",
       "    .dataframe thead th {\n",
       "        text-align: right;\n",
       "    }\n",
       "</style>\n",
       "<table border=\"1\" class=\"dataframe\">\n",
       "  <thead>\n",
       "    <tr style=\"text-align: right;\">\n",
       "      <th></th>\n",
       "      <th>Id</th>\n",
       "      <th>text</th>\n",
       "      <th>Category</th>\n",
       "    </tr>\n",
       "  </thead>\n",
       "  <tbody>\n",
       "    <tr>\n",
       "      <th>0</th>\n",
       "      <td>60ffed24da8262dd38c916dd517c617641710ede348320...</td>\n",
       "      <td>撿到 學妹 的 手機   :   吃完 飯 看到 學妹 疑 落 手機 在 三 顧 茅蘆 的 ...</td>\n",
       "      <td>1</td>\n",
       "    </tr>\n",
       "    <tr>\n",
       "      <th>1</th>\n",
       "      <td>cb931d414e634344c782a128d542188d6ec1d325e82dd1...</td>\n",
       "      <td>這些 年 努力 的 付出 ~ 但是 最終 有 誰 會 記得   大家 看到 的 只 是 表面...</td>\n",
       "      <td>0</td>\n",
       "    </tr>\n",
       "    <tr>\n",
       "      <th>2</th>\n",
       "      <td>f7febf0abfefcb927ee16440eaca62d795392de2d685a6...</td>\n",
       "      <td>幫 我 把 摩托車 鑰匙 放到 放 飲料 的 地方</td>\n",
       "      <td>1</td>\n",
       "    </tr>\n",
       "    <tr>\n",
       "      <th>3</th>\n",
       "      <td>709399d1be2207b8f06dfc9ddb3a0709d9894c02849b88...</td>\n",
       "      <td>在一起 是 需要 2 人 同意   但 分手 卻 是 要 一 人 同意 就 好 了   是 ...</td>\n",
       "      <td>0</td>\n",
       "    </tr>\n",
       "    <tr>\n",
       "      <th>4</th>\n",
       "      <td>0d1969c03277dfaef7ccfd40f0710bcff4ecd978faa935...</td>\n",
       "      <td>只好 說 抱歉</td>\n",
       "      <td>0</td>\n",
       "    </tr>\n",
       "    <tr>\n",
       "      <th>...</th>\n",
       "      <td>...</td>\n",
       "      <td>...</td>\n",
       "      <td>...</td>\n",
       "    </tr>\n",
       "    <tr>\n",
       "      <th>9995</th>\n",
       "      <td>518e80d24778d9ebd2a941ca4d2b71c7ebb722ca74c3b7...</td>\n",
       "      <td>身邊 的 朋友 們</td>\n",
       "      <td>1</td>\n",
       "    </tr>\n",
       "    <tr>\n",
       "      <th>9996</th>\n",
       "      <td>af7dc1a655e84b72726a382062779be203ed0450496568...</td>\n",
       "      <td>真的 不 知道 該 怎麼辦   該 跟 誰 說   才 開開心心 地 回到 宿舍   就 接...</td>\n",
       "      <td>0</td>\n",
       "    </tr>\n",
       "    <tr>\n",
       "      <th>9997</th>\n",
       "      <td>38bc4d6c1f43b5e3ccc65689a90a3daa6938954615dd58...</td>\n",
       "      <td>當初 真的 不 該 說出 那些 話 ...   現在 多麼 尷尬 阿 ....   每 天 ...</td>\n",
       "      <td>0</td>\n",
       "    </tr>\n",
       "    <tr>\n",
       "      <th>9998</th>\n",
       "      <td>ec1d744837fc5544b07b184235b3d1fd4b53e365500ab3...</td>\n",
       "      <td>糟糕 的 基督徒</td>\n",
       "      <td>0</td>\n",
       "    </tr>\n",
       "    <tr>\n",
       "      <th>9999</th>\n",
       "      <td>f58e6da14e7e455a33e27eb80e806246783346496310f4...</td>\n",
       "      <td>在 那 之後 我 的 世界 就 崩解 了   胸口 持續 抽痛 胃液 逆流   近 幾 年 ...</td>\n",
       "      <td>0</td>\n",
       "    </tr>\n",
       "  </tbody>\n",
       "</table>\n",
       "<p>10000 rows × 3 columns</p>\n",
       "</div>"
      ],
      "text/plain": [
       "                                                     Id  \\\n",
       "0     60ffed24da8262dd38c916dd517c617641710ede348320...   \n",
       "1     cb931d414e634344c782a128d542188d6ec1d325e82dd1...   \n",
       "2     f7febf0abfefcb927ee16440eaca62d795392de2d685a6...   \n",
       "3     709399d1be2207b8f06dfc9ddb3a0709d9894c02849b88...   \n",
       "4     0d1969c03277dfaef7ccfd40f0710bcff4ecd978faa935...   \n",
       "...                                                 ...   \n",
       "9995  518e80d24778d9ebd2a941ca4d2b71c7ebb722ca74c3b7...   \n",
       "9996  af7dc1a655e84b72726a382062779be203ed0450496568...   \n",
       "9997  38bc4d6c1f43b5e3ccc65689a90a3daa6938954615dd58...   \n",
       "9998  ec1d744837fc5544b07b184235b3d1fd4b53e365500ab3...   \n",
       "9999  f58e6da14e7e455a33e27eb80e806246783346496310f4...   \n",
       "\n",
       "                                                   text  Category  \n",
       "0     撿到 學妹 的 手機   :   吃完 飯 看到 學妹 疑 落 手機 在 三 顧 茅蘆 的 ...         1  \n",
       "1     這些 年 努力 的 付出 ~ 但是 最終 有 誰 會 記得   大家 看到 的 只 是 表面...         0  \n",
       "2                             幫 我 把 摩托車 鑰匙 放到 放 飲料 的 地方         1  \n",
       "3     在一起 是 需要 2 人 同意   但 分手 卻 是 要 一 人 同意 就 好 了   是 ...         0  \n",
       "4                                               只好 說 抱歉         0  \n",
       "...                                                 ...       ...  \n",
       "9995                                          身邊 的 朋友 們         1  \n",
       "9996  真的 不 知道 該 怎麼辦   該 跟 誰 說   才 開開心心 地 回到 宿舍   就 接...         0  \n",
       "9997  當初 真的 不 該 說出 那些 話 ...   現在 多麼 尷尬 阿 ....   每 天 ...         0  \n",
       "9998                                           糟糕 的 基督徒         0  \n",
       "9999  在 那 之後 我 的 世界 就 崩解 了   胸口 持續 抽痛 胃液 逆流   近 幾 年 ...         0  \n",
       "\n",
       "[10000 rows x 3 columns]"
      ]
     },
     "execution_count": 29,
     "metadata": {},
     "output_type": "execute_result"
    }
   ],
   "source": [
    "df_test['Category'] = pred_modify\n",
    "df_test"
   ]
  },
  {
   "cell_type": "code",
   "execution_count": 30,
   "metadata": {},
   "outputs": [],
   "source": [
    "out = df_test[['Id','Category']]"
   ]
  },
  {
   "cell_type": "code",
   "execution_count": 31,
   "metadata": {},
   "outputs": [
    {
     "data": {
      "text/html": [
       "<div>\n",
       "<style scoped>\n",
       "    .dataframe tbody tr th:only-of-type {\n",
       "        vertical-align: middle;\n",
       "    }\n",
       "\n",
       "    .dataframe tbody tr th {\n",
       "        vertical-align: top;\n",
       "    }\n",
       "\n",
       "    .dataframe thead th {\n",
       "        text-align: right;\n",
       "    }\n",
       "</style>\n",
       "<table border=\"1\" class=\"dataframe\">\n",
       "  <thead>\n",
       "    <tr style=\"text-align: right;\">\n",
       "      <th></th>\n",
       "      <th>Id</th>\n",
       "      <th>Category</th>\n",
       "    </tr>\n",
       "  </thead>\n",
       "  <tbody>\n",
       "    <tr>\n",
       "      <th>0</th>\n",
       "      <td>60ffed24da8262dd38c916dd517c617641710ede348320...</td>\n",
       "      <td>1</td>\n",
       "    </tr>\n",
       "    <tr>\n",
       "      <th>1</th>\n",
       "      <td>cb931d414e634344c782a128d542188d6ec1d325e82dd1...</td>\n",
       "      <td>0</td>\n",
       "    </tr>\n",
       "    <tr>\n",
       "      <th>2</th>\n",
       "      <td>f7febf0abfefcb927ee16440eaca62d795392de2d685a6...</td>\n",
       "      <td>1</td>\n",
       "    </tr>\n",
       "    <tr>\n",
       "      <th>3</th>\n",
       "      <td>709399d1be2207b8f06dfc9ddb3a0709d9894c02849b88...</td>\n",
       "      <td>0</td>\n",
       "    </tr>\n",
       "    <tr>\n",
       "      <th>4</th>\n",
       "      <td>0d1969c03277dfaef7ccfd40f0710bcff4ecd978faa935...</td>\n",
       "      <td>0</td>\n",
       "    </tr>\n",
       "    <tr>\n",
       "      <th>...</th>\n",
       "      <td>...</td>\n",
       "      <td>...</td>\n",
       "    </tr>\n",
       "    <tr>\n",
       "      <th>9995</th>\n",
       "      <td>518e80d24778d9ebd2a941ca4d2b71c7ebb722ca74c3b7...</td>\n",
       "      <td>1</td>\n",
       "    </tr>\n",
       "    <tr>\n",
       "      <th>9996</th>\n",
       "      <td>af7dc1a655e84b72726a382062779be203ed0450496568...</td>\n",
       "      <td>0</td>\n",
       "    </tr>\n",
       "    <tr>\n",
       "      <th>9997</th>\n",
       "      <td>38bc4d6c1f43b5e3ccc65689a90a3daa6938954615dd58...</td>\n",
       "      <td>0</td>\n",
       "    </tr>\n",
       "    <tr>\n",
       "      <th>9998</th>\n",
       "      <td>ec1d744837fc5544b07b184235b3d1fd4b53e365500ab3...</td>\n",
       "      <td>0</td>\n",
       "    </tr>\n",
       "    <tr>\n",
       "      <th>9999</th>\n",
       "      <td>f58e6da14e7e455a33e27eb80e806246783346496310f4...</td>\n",
       "      <td>0</td>\n",
       "    </tr>\n",
       "  </tbody>\n",
       "</table>\n",
       "<p>10000 rows × 2 columns</p>\n",
       "</div>"
      ],
      "text/plain": [
       "                                                     Id  Category\n",
       "0     60ffed24da8262dd38c916dd517c617641710ede348320...         1\n",
       "1     cb931d414e634344c782a128d542188d6ec1d325e82dd1...         0\n",
       "2     f7febf0abfefcb927ee16440eaca62d795392de2d685a6...         1\n",
       "3     709399d1be2207b8f06dfc9ddb3a0709d9894c02849b88...         0\n",
       "4     0d1969c03277dfaef7ccfd40f0710bcff4ecd978faa935...         0\n",
       "...                                                 ...       ...\n",
       "9995  518e80d24778d9ebd2a941ca4d2b71c7ebb722ca74c3b7...         1\n",
       "9996  af7dc1a655e84b72726a382062779be203ed0450496568...         0\n",
       "9997  38bc4d6c1f43b5e3ccc65689a90a3daa6938954615dd58...         0\n",
       "9998  ec1d744837fc5544b07b184235b3d1fd4b53e365500ab3...         0\n",
       "9999  f58e6da14e7e455a33e27eb80e806246783346496310f4...         0\n",
       "\n",
       "[10000 rows x 2 columns]"
      ]
     },
     "execution_count": 31,
     "metadata": {},
     "output_type": "execute_result"
    }
   ],
   "source": [
    "out"
   ]
  },
  {
   "cell_type": "code",
   "execution_count": 32,
   "metadata": {},
   "outputs": [],
   "source": [
    "# save prediction to csv file\n",
    "out.to_csv('./predict9.csv',index=False)"
   ]
  },
  {
   "cell_type": "code",
   "execution_count": 33,
   "metadata": {},
   "outputs": [],
   "source": [
    "# save model weight\n",
    "model.save_weights('./model9.h5')"
   ]
  },
  {
   "cell_type": "markdown",
   "metadata": {},
   "source": [
    "## model9.h5 是最好的\n",
    "    model = Sequential()\n",
    "    model.add(Dense(units=1024, input_dim=75417, kernel_initializer='normal', activation='relu'))\n",
    "    model.add(Dropout(0.2))\n",
    "    model.add(Dense(units=256, kernel_initializer='normal', activation='relu'))\n",
    "    model.add(Dense(units=1, kernel_initializer='normal', activation='sigmoid'))\n",
    "    model.compile(loss='binary_crossentropy', optimizer='adam', metrics=['accuracy'])\n",
    "    model.fit(X,Y,validation_split=0.2, epochs=3, batch_size=5)"
   ]
  },
  {
   "cell_type": "code",
   "execution_count": null,
   "metadata": {},
   "outputs": [],
   "source": []
  }
 ],
 "metadata": {
  "kernelspec": {
   "display_name": "Python 3",
   "language": "python",
   "name": "python3"
  },
  "language_info": {
   "codemirror_mode": {
    "name": "ipython",
    "version": 3
   },
   "file_extension": ".py",
   "mimetype": "text/x-python",
   "name": "python",
   "nbconvert_exporter": "python",
   "pygments_lexer": "ipython3",
   "version": "3.6.9"
  }
 },
 "nbformat": 4,
 "nbformat_minor": 4
}
